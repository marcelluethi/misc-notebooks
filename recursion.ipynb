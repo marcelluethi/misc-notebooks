{
 "cells": [
  {
   "cell_type": "markdown",
   "id": "21ce5bc5",
   "metadata": {},
   "source": [
    "Die nachfolgenden zwei Zeilen müssen Sie vor dem Arbeiten mit diesem Jupyter-Notebook ausführen. Diese importieren die Turtle-Grafik Bibliotheken."
   ]
  },
  {
   "cell_type": "code",
   "execution_count": null,
   "id": "65f1d366",
   "metadata": {},
   "outputs": [],
   "source": [
    "%mavenRepo shapemodelling-repo https://shapemodelling.cs.unibas.ch/repo/\n",
    "%maven ch.unibas.informatik:jturtle:0.7"
   ]
  },
  {
   "cell_type": "code",
   "execution_count": null,
   "id": "d17b3eb6",
   "metadata": {
    "scrolled": true
   },
   "outputs": [],
   "source": [
    "import static ch.unibas.informatik.jturtle.TurtleCommands.*;\n",
    "import java.awt.Color;"
   ]
  },
  {
   "cell_type": "markdown",
   "id": "f59c2da7",
   "metadata": {
    "slideshow": {
     "slide_type": "slide"
    }
   },
   "source": [
    "# Grundlagen der Programmierung\n",
    "\n",
    "Marcel Lüthi\n",
    "\n",
    "<div style=\"padding-top:100px\"/>\n",
    "\n",
    "\n",
    "Jupyter-Notebook  (zum Live Mitarbeiten)  [https://bit.ly/ethz-rec](https://bit.ly/ethz-rec) (Passwort: rekursion)\n",
    "\n",
    "Slido: [https://www.sli.do](https://www.sli.do):   Code \\#ethz-rec"
   ]
  },
  {
   "cell_type": "markdown",
   "id": "1e6407eb",
   "metadata": {
    "slideshow": {
     "slide_type": "slide"
    }
   },
   "source": [
    "Es war einmal ein Mann</br>\n",
    "Der hatte einen hohlen Zahn</br>\n",
    "Und in diesem Zahn war eine Schachtel drin </br>\n",
    "Und in dieser Schachtel war ein Briefchen drin </br>\n",
    "Und auf dem Briefchen stand</br>\n",
    "\n",
    "Es war einmal ein Mann</br>\n",
    "Der hatte einen hohlen Zahn </br>\n",
    "..."
   ]
  },
  {
   "cell_type": "markdown",
   "id": "077f1f5a",
   "metadata": {
    "slideshow": {
     "slide_type": "slide"
    }
   },
   "source": [
    "# Rekursion\n",
    "\n",
    "![story-structure](story-structure.png)"
   ]
  },
  {
   "cell_type": "markdown",
   "id": "3e4240b0",
   "metadata": {
    "slideshow": {
     "slide_type": "slide"
    }
   },
   "source": [
    "# Anwendungen von Rekursion"
   ]
  },
  {
   "cell_type": "markdown",
   "id": "34e619c8",
   "metadata": {
    "slideshow": {
     "slide_type": "-"
    }
   },
   "source": [
    "* Computergrafik\n",
    "* Algorithmen und Datenstrukturen\n",
    "* Theoretische Informatik (Sprachen, Berechenbarkeit, ...) \n",
    "* Mathematik (Folgen, Reihen, ...)\n",
    "* Signalverarbeitung (Filter, FFT, ...)\n",
    "\n",
    "![illustrationen](graphics.png)"
   ]
  },
  {
   "cell_type": "markdown",
   "id": "94001c53",
   "metadata": {
    "slideshow": {
     "slide_type": "slide"
    }
   },
   "source": [
    "# Unsere Anwendung von Rekursion \n",
    "\n",
    "Sequenzen von Anweisungen beliebig oft Ausführen."
   ]
  },
  {
   "cell_type": "markdown",
   "id": "8164ca6e",
   "metadata": {
    "slideshow": {
     "slide_type": "slide"
    }
   },
   "source": [
    "### Was wir bisher gelernt haben\n",
    "\n",
    "![code-rep](./code-rep.png)"
   ]
  },
  {
   "cell_type": "markdown",
   "id": "914c5e04",
   "metadata": {
    "slideshow": {
     "slide_type": "slide"
    }
   },
   "source": [
    "# Slido poll\n",
    "\n",
    "Angenommen Sie wollen die Geschichte mit dem hohlen Zahn in Java abbilden. Welche der vorigen Konstrukte setzten Sie dazu ein?"
   ]
  },
  {
   "cell_type": "markdown",
   "id": "83699cfa",
   "metadata": {
    "slideshow": {
     "slide_type": "slide"
    }
   },
   "source": [
    "# Die Geschichte als Code\n",
    "\n"
   ]
  },
  {
   "cell_type": "code",
   "execution_count": null,
   "id": "ece51409",
   "metadata": {},
   "outputs": [],
   "source": [
    "// Geschichte in Code"
   ]
  },
  {
   "cell_type": "markdown",
   "id": "de378daa",
   "metadata": {
    "slideshow": {
     "slide_type": "slide"
    }
   },
   "source": [
    "# Die n-endliche Geschichte\n",
    "\n",
    "Interaktive Übung: Können Sie das Programm so anpassen, dass diese nur $n$ Mal aufgerufen wird. $n$ soll ein Parameter der Methode sein. \n"
   ]
  },
  {
   "cell_type": "code",
   "execution_count": null,
   "id": "b74fb7d9",
   "metadata": {},
   "outputs": [],
   "source": [
    "// Geschichte in Code"
   ]
  },
  {
   "cell_type": "markdown",
   "id": "53b35a5d",
   "metadata": {
    "slideshow": {
     "slide_type": "slide"
    }
   },
   "source": [
    "# Anweisungen wiederholen"
   ]
  },
  {
   "cell_type": "code",
   "execution_count": null,
   "id": "765c045e",
   "metadata": {},
   "outputs": [],
   "source": [
    "void repeat(int n) {\n",
    "    if (n <= 0) {\n",
    "        return;\n",
    "    }\n",
    "    // Ihr Code\n",
    "    \n",
    "    repeat(n - 1);\n",
    "}\n"
   ]
  },
  {
   "cell_type": "code",
   "execution_count": null,
   "id": "6d7d74ea",
   "metadata": {},
   "outputs": [],
   "source": [
    "repeat(5); "
   ]
  },
  {
   "cell_type": "markdown",
   "id": "b375a593",
   "metadata": {
    "slideshow": {
     "slide_type": "fragment"
    }
   },
   "source": [
    "**Mittels Rekursion können wir beliebige Sequenzen von Programmen beliebig oft ausführen.**"
   ]
  },
  {
   "cell_type": "markdown",
   "id": "a458de2f",
   "metadata": {
    "slideshow": {
     "slide_type": "slide"
    }
   },
   "source": [
    "### Allgemeines Muster\n",
    "\n",
    "> Ein Problem wird auf sich selbst zurückgeführt\n",
    "\n",
    "* **Rekursionsfall:** Teilproblem, welches mittels rekursivem Aufruf ausgeführt wird. \n",
    "    * Einfacher zu lösende Version des Gesamtproblems\n",
    "* **Basisfall:** Die Lösung kann direkt hingeschrieben werden\n",
    "    * Keine weitere Rekursion mehr nötig"
   ]
  },
  {
   "cell_type": "markdown",
   "id": "3359167b",
   "metadata": {
    "slideshow": {
     "slide_type": "slide"
    }
   },
   "source": [
    "# Fragen\n",
    "\n",
    "- Direkt oder auf Slido"
   ]
  },
  {
   "cell_type": "markdown",
   "id": "fc2fb171",
   "metadata": {
    "slideshow": {
     "slide_type": "slide"
    }
   },
   "source": [
    "# Beispiel 2: Bäume zeichnen"
   ]
  },
  {
   "cell_type": "markdown",
   "id": "bba0a4ba",
   "metadata": {},
   "source": [
    "![tree](./tree.png)"
   ]
  },
  {
   "cell_type": "markdown",
   "id": "f01e7aa6",
   "metadata": {},
   "source": [
    "Aufgabe: Was ist hier der Rekursionsfall? Welches Teilproblem hat dieselbe Struktur wie das Gesamtproblem?"
   ]
  },
  {
   "cell_type": "markdown",
   "id": "94896385",
   "metadata": {
    "slideshow": {
     "slide_type": "slide"
    }
   },
   "source": [
    "# Beispiel 2: Bäume zeichnen"
   ]
  },
  {
   "cell_type": "code",
   "execution_count": null,
   "id": "f3be0a36",
   "metadata": {
    "slideshow": {
     "slide_type": "-"
    }
   },
   "outputs": [],
   "source": [
    "void drawTree(double branchLength, int depth) {\n",
    "    double angle = 30;\n",
    "    double scaleFactor = 0.8;\n",
    "    \n",
    "    if (depth <= 0) {\n",
    "        return;\n",
    "    } else {\n",
    "        forward(branchLength);\n",
    "        turnRight(angle);\n",
    "        drawTree(branchLength * scaleFactor, depth - 1);\n",
    "        turnLeft(2 * angle);\n",
    "        drawTree(branchLength * scaleFactor, depth - 1);\n",
    "        turnRight(angle);\n",
    "        backward(branchLength);\n",
    "    }\n",
    "}\n",
    "\n",
    "clear();\n",
    "home();\n",
    "drawTree(20, 10);\n",
    "display(drawing());\n"
   ]
  },
  {
   "cell_type": "markdown",
   "id": "5c4ced96",
   "metadata": {
    "slideshow": {
     "slide_type": "slide"
    }
   },
   "source": [
    "# Beispiel 3: Summen berechnen\n",
    "\n",
    "Wir wollen eine rekursive Methode `sum` schreiben, welche die die Summe aller Ganzzahlen zwischen `low` and `high` berechnet.\n",
    "\n",
    "Beispiel: `sum(3, 8)` ergibt:\n",
    "\n",
    "`3 + 4 + 5 + 6 + 7 + 8`\n",
    "\n",
    "* Was ist hier der Basisfall, was der Rekursionsfall?"
   ]
  },
  {
   "cell_type": "markdown",
   "id": "e750a732",
   "metadata": {
    "slideshow": {
     "slide_type": "slide"
    }
   },
   "source": [
    "# Beispiel 3: Summen berechnen"
   ]
  },
  {
   "cell_type": "code",
   "execution_count": null,
   "id": "a6dd60b6",
   "metadata": {},
   "outputs": [],
   "source": [
    "// Code"
   ]
  },
  {
   "cell_type": "markdown",
   "id": "fa70bdd4",
   "metadata": {
    "slideshow": {
     "slide_type": "slide"
    }
   },
   "source": [
    "# Beispiel 3: Summen berechnen\n",
    "![rec-sum](rec-sum.png)"
   ]
  },
  {
   "cell_type": "markdown",
   "id": "e716625e",
   "metadata": {
    "slideshow": {
     "slide_type": "slide"
    }
   },
   "source": [
    "# Zusammenfassung\n",
    "\n",
    " \n",
    " > Rekursion ermöglicht beliebige Wiederholungen von Anweisungen\n",
    " \n",
    " * **Selbstreferenzielle Berechnung:** Funktion ruft sich selbst auf.\n",
    " * **Basisfall und Rekursionsfall:** Direkte Lösung & Aufruf von (kleinerem) strukturgleichen Problem\n",
    " * **Rückverfolgung:** Bei Methoden mit Rückgabewerten wird Resultat auf \"Rückweg\" zusammengesetzt"
   ]
  },
  {
   "cell_type": "markdown",
   "id": "50a96d29",
   "metadata": {
    "slideshow": {
     "slide_type": "slide"
    }
   },
   "source": [
    "### Übungen\n",
    "\n",
    "1. Schreiben Sie eine rekursive Methode, die ein beliebiges, reguläres Vieleck zeichnen kann\n",
    "2. Zeichnen Sie nachfolgendes Muster: Dabei sollen Sie die Rekursion abbrechen, wenn die Seitenlänge kleiner 1 ist.\n",
    "3. In dieser Übung werden Sie eine Rekursion schreiben, die mehr als einen Basisfall hat. Sie werden sehen, dass das Konzept unverändert gilt. Implementieren sie die Hofstadter Sequence, die wie folgt definiert ist:\n",
    "\n",
    "$   \n",
    "\\begin{align} Q(1)&=Q(2)=1, \\\\ Q(n)&=Q(n-Q(n-1))+Q(n-Q(n-2)), \\quad n>2. \\end{align}\n",
    "$\n",
    "\n",
    "4. Experimentieren Sie: Können auch zwei verschiedene Methoden in eine Rekursion involviert sein? Als Beispiel könen Sie versuchen folgende Aufgabe zu lösen: \"Implementieren Sie zwei gegenseitig rekursive Funktionen `isEven(n)` und `isOdd(n)`, die überprüfen, ob eine gegebene Zahl gerade oder ungerade ist. Die Funktionen sollten sich gegenseitig aufrufen, bis sie den Basisfall erreichen."
   ]
  },
  {
   "cell_type": "markdown",
   "id": "0991ddaf",
   "metadata": {},
   "source": [
    "![sprial](spiral.png)"
   ]
  },
  {
   "cell_type": "code",
   "execution_count": null,
   "id": "c6dee94e",
   "metadata": {},
   "outputs": [],
   "source": [
    "// Ihre Lösungen zu 1"
   ]
  },
  {
   "cell_type": "code",
   "execution_count": null,
   "id": "fc4bee07",
   "metadata": {},
   "outputs": [],
   "source": [
    "// Ihre Lösung zu 2"
   ]
  },
  {
   "cell_type": "code",
   "execution_count": null,
   "id": "a24d9ce3",
   "metadata": {},
   "outputs": [],
   "source": [
    "// Ihre Lösung zu 3"
   ]
  },
  {
   "cell_type": "code",
   "execution_count": null,
   "id": "21ddf9ab",
   "metadata": {},
   "outputs": [],
   "source": [
    "// Ihre Lösung zu 4"
   ]
  }
 ],
 "metadata": {
  "celltoolbar": "Slideshow",
  "kernelspec": {
   "display_name": "Java",
   "language": "java",
   "name": "java"
  },
  "language_info": {
   "codemirror_mode": "java",
   "file_extension": ".jshell",
   "mimetype": "text/x-java-source",
   "name": "Java",
   "pygments_lexer": "java",
   "version": "18.0.1+10"
  },
  "rise": {
   "enable_chalkboard": true,
   "scroll": true,
   "theme": "black"
  }
 },
 "nbformat": 4,
 "nbformat_minor": 5
}
